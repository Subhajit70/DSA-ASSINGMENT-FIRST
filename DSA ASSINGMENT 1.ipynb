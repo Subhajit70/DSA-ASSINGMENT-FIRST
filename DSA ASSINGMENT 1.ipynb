{
 "cells": [
  {
   "cell_type": "code",
   "execution_count": 2,
   "id": "ab01d6dc-3e6e-4191-8f27-2bff368b18b0",
   "metadata": {},
   "outputs": [
    {
     "name": "stdout",
     "output_type": "stream",
     "text": [
      "Yes\n"
     ]
    }
   ],
   "source": [
    "#1.1. Given an array, check if it contains any duplicates or not.\n",
    "#arr = [1, 2, 4, 2, 5, 9]\n",
    "#Output = True\n",
    "\n",
    "\n",
    "# Python3 program to Check if a given array contains duplicate\n",
    "# elements within k distance from each other\n",
    "def checkDuplicatesWithinK(arr, n, k):\n",
    "\n",
    "\t# traversing the input array\n",
    "\tfor i in range(n):\n",
    "\t\tj = i + 1\n",
    "\t\trange_ = k\n",
    "\t\t\n",
    "\t\t# searching in next k-1 elements if its duplicate\n",
    "\t\t# is present or not\n",
    "\t\twhile (range_ > 0 and j < n):\n",
    "\t\t\tif (arr[i] == arr[j]):\n",
    "\t\t\t\treturn True\n",
    "\t\t\tj += 1\n",
    "\t\t\trange_ -= 1\n",
    "\n",
    "\treturn False\n",
    "\n",
    "\n",
    "# Driver method to test above method\n",
    "\n",
    "arr = [1,2,4,2,5,9]\n",
    "n = len(arr)\n",
    "if (checkDuplicatesWithinK(arr, n, 3) == True):\n",
    "\tprint(\"Yes\")\n",
    "else:\n",
    "\tprint(\"No\")\n",
    "\n",
    "\n",
    "#space complexcity 0(1)\n",
    "#time complexcity 0(N)\n"
   ]
  },
  {
   "cell_type": "code",
   "execution_count": 7,
   "id": "6959e73b-e3c7-4f13-aaab-e4031daeecdd",
   "metadata": {},
   "outputs": [
    {
     "name": "stdout",
     "output_type": "stream",
     "text": [
      "5 6 7 1 2 3 4 \n",
      "\n"
     ]
    }
   ],
   "source": [
    "#22. Given an array and an integer k, rotate the array to the right by k steps.\n",
    "#arr = [1, 2, 3, 4, 5, 6, 7] k = 3\n",
    "#Output = [5, 6, 7, 1, 2, 3, 4]\n",
    "\n",
    "# Python3 implementation of right rotation \n",
    "# of an array K number of times\n",
    "\n",
    "# Python3 implementation of right rotation \n",
    "# of an array K number of times\n",
    "\n",
    "# Function to rightRotate array\n",
    "def RightRotate(a, n, k):\n",
    "\n",
    "\t# If rotation is greater \n",
    "\t# than size of array\n",
    "\tk = k % n;\n",
    "\n",
    "\tfor i in range(0, n):\n",
    "\n",
    "\t\tif(i < k):\n",
    "\n",
    "\t\t\t# Printing rightmost \n",
    "\t\t\t# kth elements\n",
    "\t\t\tprint(a[n + i - k], end = \" \");\n",
    "\n",
    "\t\telse:\n",
    "\n",
    "\t\t\t# Prints array after\n",
    "\t\t\t# 'k' elements\n",
    "\t\t\tprint(a[i - k], end = \" \");\n",
    "\n",
    "\tprint(\"\\n\");\n",
    "\n",
    "# Driver code\n",
    "Array = [ 1,2,3,4,5,6,7 ];\n",
    "N = len(Array);\n",
    "K = 3;\n",
    "\t\n",
    "RightRotate(Array, N, K);\n",
    "\n",
    "# TIME COMPLEXCITY O(N)\n",
    "#SPACE COMPLEXCITY O(1)\n"
   ]
  },
  {
   "cell_type": "code",
   "execution_count": 9,
   "id": "3a1f1b9e-cd8f-44af-8cda-b073b38fb77c",
   "metadata": {},
   "outputs": [
    {
     "name": "stdout",
     "output_type": "stream",
     "text": [
      "[12, 9, 7, 5, 4, 2]\n"
     ]
    }
   ],
   "source": [
    "#3.Reverse the given array in-place, means without using any extra data structure.\n",
    "#arr = [2, 4, 5, 7, 9, 12]\n",
    "#Output = [12, 9, 7, 5, 4, 2]\n",
    "\n",
    "\n",
    "arr = [2, 4, 5, 7, 9, 12,]\n",
    "start = 0\n",
    "end = len(arr) - 1\n",
    "\n",
    "while start < end:\n",
    "    arr[start], arr[end] = arr[end], arr[start]\n",
    "    start += 1\n",
    "    end -= 1\n",
    "\n",
    "print(arr) \n",
    "\n",
    "# TIME COMPLEXCITY O(N)\n",
    "#SPACE COMPLEXCITY O(1)\n",
    "\n"
   ]
  },
  {
   "cell_type": "code",
   "execution_count": 11,
   "id": "9e90fdfe-8f29-42b8-8f2c-278167354509",
   "metadata": {},
   "outputs": [
    {
     "name": "stdout",
     "output_type": "stream",
     "text": [
      "The maximum element in the array is: 20\n"
     ]
    }
   ],
   "source": [
    "#4.Given an array of integers, find the maximum element in an array\n",
    "#arr = [10, 5, 20, 8, 15]\n",
    "#Output = 20\n",
    "\n",
    "arr = [10, 5, 20, 8, 15]\n",
    "max_val = arr[0]\n",
    "for i in range(1, len(arr)):\n",
    "    if arr[i] > max_val:\n",
    "        max_val = arr[i]\n",
    "print(\"The maximum element in the array is:\", max_val)\n",
    "\n",
    "# TIME COMPLEXCITY O(N)\n",
    "#SPACE COMPLEXCITY O(1)\n",
    "\n"
   ]
  },
  {
   "cell_type": "code",
   "execution_count": 14,
   "id": "2965d9d8-824c-411e-b116-97112c08820b",
   "metadata": {},
   "outputs": [],
   "source": [
    "#5.\n",
    "\n",
    "def remove_duplicates(arr):\n",
    "    if not arr:\n",
    "        return []\n",
    "    j = 0\n",
    "    for i in range(1, len(arr)):\n",
    "        if arr[i] != arr[j]:\n",
    "            j += 1\n",
    "            arr[j] = arr[i]\n",
    "    return arr[:j+1]\n",
    "\n",
    "\n",
    "arr = [1, 1, 2, 2, 2, 3, 3, 4, 4, 4, 5, 5]"
   ]
  },
  {
   "cell_type": "code",
   "execution_count": 15,
   "id": "da866f9b-38c1-4dc5-8eb8-4f99d7eb9c5a",
   "metadata": {},
   "outputs": [
    {
     "data": {
      "text/plain": [
       "[1, 2, 3, 4, 5]"
      ]
     },
     "execution_count": 15,
     "metadata": {},
     "output_type": "execute_result"
    }
   ],
   "source": [
    "remove_duplicates(arr)"
   ]
  },
  {
   "cell_type": "code",
   "execution_count": 16,
   "id": "d8b7205a-bc5b-4939-8666-d2b5c50c4760",
   "metadata": {},
   "outputs": [],
   "source": [
    "#completed"
   ]
  },
  {
   "cell_type": "code",
   "execution_count": null,
   "id": "7bbbc9ad-86ab-4ffd-b917-2e9ea52270fb",
   "metadata": {},
   "outputs": [],
   "source": []
  }
 ],
 "metadata": {
  "kernelspec": {
   "display_name": "Python 3 (ipykernel)",
   "language": "python",
   "name": "python3"
  },
  "language_info": {
   "codemirror_mode": {
    "name": "ipython",
    "version": 3
   },
   "file_extension": ".py",
   "mimetype": "text/x-python",
   "name": "python",
   "nbconvert_exporter": "python",
   "pygments_lexer": "ipython3",
   "version": "3.10.8"
  }
 },
 "nbformat": 4,
 "nbformat_minor": 5
}
